{
 "cells": [
  {
   "cell_type": "code",
   "execution_count": 3,
   "metadata": {
    "collapsed": true
   },
   "outputs": [],
   "source": [
    "muestras = [\n",
    "    {\n",
    "        \"Tiempo\": 0,\n",
    "        \"Temperatura\": 20,\n",
    "        \"PH\": 4.6\n",
    "    },\n",
    "    {\n",
    "        \"Tiempo\": 1,\n",
    "        \"Temperatura\": 24,\n",
    "        \"PH\": 5.2\n",
    "    },\n",
    "    {\n",
    "        \"Tiempo\": 2,\n",
    "        \"Temperatura\": 28,\n",
    "        \"PH\": 5.4\n",
    "    },\n",
    "    {\n",
    "        \"Tiempo\": 3,\n",
    "        \"Temperatura\": 26,\n",
    "        \"PH\": 5.4\n",
    "    }\n",
    "]"
   ]
  },
  {
   "cell_type": "code",
   "execution_count": 4,
   "metadata": {
    "collapsed": false
   },
   "outputs": [
    {
     "name": "stdout",
     "output_type": "stream",
     "text": [
      "[0, 1, 2, 3]\n"
     ]
    }
   ],
   "source": [
    "import sci\n",
    "\n",
    "tiempos = sci.data_map(muestras, lambda dic: dic[\"Tiempo\"])\n",
    "\n",
    "print tiempos"
   ]
  },
  {
   "cell_type": "code",
   "execution_count": 5,
   "metadata": {
    "collapsed": false,
    "scrolled": true
   },
   "outputs": [
    {
     "name": "stdout",
     "output_type": "stream",
     "text": [
      "[20, 24, 28, 26]\n"
     ]
    }
   ],
   "source": [
    "temperaturas = sci.data_map(muestras, lambda dic: dic[\"Temperatura\"])\n",
    "\n",
    "print temperaturas"
   ]
  },
  {
   "cell_type": "code",
   "execution_count": 6,
   "metadata": {
    "collapsed": false
   },
   "outputs": [
    {
     "name": "stdout",
     "output_type": "stream",
     "text": [
      "T(2) = 28\n"
     ]
    }
   ],
   "source": [
    "print \"T(2) = %d\" % temperaturas[2]"
   ]
  },
  {
   "cell_type": "code",
   "execution_count": 8,
   "metadata": {
    "collapsed": false
   },
   "outputs": [
    {
     "data": {
      "image/png": "[encoded data removed]",
      "text/plain": [
       "<matplotlib.figure.Figure at 0x6862110>"
      ]
     },
     "metadata": {},
     "output_type": "display_data"
    }
   ],
   "source": [
    "import matplotlib.pyplot as plt\n",
    "\n",
    "plt.plot(tiempos, temperaturas)\n",
    "\n",
    "plt.show()"
   ]
  },
  {
   "cell_type": "code",
   "execution_count": 12,
   "metadata": {
    "collapsed": false
   },
   "outputs": [
    {
     "name": "stdout",
     "output_type": "stream",
     "text": [
      "[93.6, 100.8, 108.0, 104.4]\n"
     ]
    }
   ],
   "source": [
    "temperaturas_far = sci.data_map(temperaturas, lambda T: 9.0 * (T + 32) / 5.0)\n",
    "\n",
    "print temperaturas_far"
   ]
  },
  {
   "cell_type": "code",
   "execution_count": 15,
   "metadata": {
    "collapsed": false
   },
   "outputs": [
    {
     "name": "stdout",
     "output_type": "stream",
     "text": [
      "asdasdasd\n"
     ]
    }
   ],
   "source": [
    "# clean_init_spaces(s)\n",
    "\n",
    "s = \"                  asdasdasd\"\n",
    "\n",
    "print sci.clean_init_spaces(s)"
   ]
  },
  {
   "cell_type": "code",
   "execution_count": 16,
   "metadata": {
    "collapsed": false
   },
   "outputs": [
    {
     "name": "stdout",
     "output_type": "stream",
     "text": [
      "adsasdasd\n"
     ]
    }
   ],
   "source": [
    "# clean_end_spaces(s)\n",
    "\n",
    "s = \"adsasdasd                \"\n",
    "\n",
    "print sci.clean_end_spaces(s)"
   ]
  },
  {
   "cell_type": "code",
   "execution_count": 21,
   "metadata": {
    "collapsed": false
   },
   "outputs": [
    {
     "name": "stdout",
     "output_type": "stream",
     "text": [
      "((<Cell Hoja2.C5>, <Cell Hoja2.D5>, <Cell Hoja2.E5>), (<Cell Hoja2.C6>, <Cell Hoja2.D6>, <Cell Hoja2.E6>), (<Cell Hoja2.C7>, <Cell Hoja2.D7>, <Cell Hoja2.E7>))\n"
     ]
    }
   ],
   "source": [
    "# range_xl(filename, sheet_name, cell_range)\n",
    "\n",
    "filename = \"../clientes.xlsx\"\n",
    "sheet_name = \"Hoja2\"\n",
    "cell_range = \"C5:E7\"\n",
    "\n",
    "cells = sci.range_xl(filename, sheet_name, cell_range)\n",
    "\n",
    "print cells"
   ]
  },
  {
   "cell_type": "code",
   "execution_count": 22,
   "metadata": {
    "collapsed": false
   },
   "outputs": [
    {
     "name": "stdout",
     "output_type": "stream",
     "text": [
      "[[1L, 2L, 3L], [4L, 5L, 6L], [7L, 8L, 9L]]\n"
     ]
    }
   ],
   "source": [
    "# matrix_xl(cells)\n",
    "\n",
    "mat = sci.matrix_xl(cells)\n",
    "\n",
    "print mat"
   ]
  },
  {
   "cell_type": "code",
   "execution_count": 23,
   "metadata": {
    "collapsed": false
   },
   "outputs": [
    {
     "name": "stdout",
     "output_type": "stream",
     "text": [
      "[[9.0, 8.0, 7.0, 1.0], [6.0, 5.0, 4.0, 1.0], [3.0, 2.0, 1.0, 1.0]]\n"
     ]
    }
   ],
   "source": [
    "# matrix_csv(filename)\n",
    "\n",
    "filename = \"datos.csv\"\n",
    "\n",
    "mat = sci.matrix_csv(filename)\n",
    "\n",
    "print mat"
   ]
  },
  {
   "cell_type": "code",
   "execution_count": 25,
   "metadata": {
    "collapsed": false
   },
   "outputs": [
    {
     "name": "stdout",
     "output_type": "stream",
     "text": [
      "[{'A': 1, 'C': 3, 'B': 2}, {'A': 4, 'C': 6, 'B': 7}, {'A': 9, 'C': 2, 'B': 8}, {'A': 2, 'C': 8, 'B': 5}]\n"
     ]
    }
   ],
   "source": [
    "# data_build(mat)\n",
    "\n",
    "mat = [\n",
    "    [\"A\", \"B\", \"C\"],\n",
    "    [1, 2, 3],\n",
    "    [4, 7, 6],\n",
    "    [9, 8, 2],\n",
    "    [2, 5, 8]\n",
    "]\n",
    "\n",
    "lista = sci.data_build(mat)\n",
    "\n",
    "print lista"
   ]
  },
  {
   "cell_type": "code",
   "execution_count": 26,
   "metadata": {
    "collapsed": false
   },
   "outputs": [
    {
     "name": "stdout",
     "output_type": "stream",
     "text": [
      "[{u'Nombre': u'Ana', u'Fecha': u'9-2-2016', u'Consumo': 549L}, {u'Nombre': u'Ana', u'Fecha': u'27-1-2015', u'Consumo': 905L}, {u'Nombre': u'Carla', u'Fecha': u'1-2-2015', u'Consumo': 908L}, {u'Nombre': u'Beto', u'Fecha': u'11-1-2014', u'Consumo': 632L}, {u'Nombre': u'Carla', u'Fecha': u'7-1-2015', u'Consumo': 965L}, {u'Nombre': u'Ana', u'Fecha': u'16-2-2014', u'Consumo': 942L}, {u'Nombre': u'Carla', u'Fecha': u'12-2-2016', u'Consumo': 114L}, {u'Nombre': u'Carla', u'Fecha': u'2-2-2015', u'Consumo': 99L}, {u'Nombre': u'Beto', u'Fecha': u'5-3-2016', u'Consumo': 757L}, {u'Nombre': u'Daniel', u'Fecha': u'23-3-2016', u'Consumo': 298L}, {u'Nombre': u'Beto', u'Fecha': u'12-1-2014', u'Consumo': 13L}, {u'Nombre': u'Ana', u'Fecha': u'1-1-2016', u'Consumo': 755L}, {u'Nombre': u'Ana', u'Fecha': u'9-2-2016', u'Consumo': 883L}, {u'Nombre': u'Carla', u'Fecha': u'17-2-2015', u'Consumo': 996L}, {u'Nombre': u'Carla', u'Fecha': u'3-3-2015', u'Consumo': 282L}]\n"
     ]
    }
   ],
   "source": [
    "# load_xl(filename, sheet_name, cell_range)\n",
    "\n",
    "filename = \"../clientes.xlsx\"\n",
    "sheet_name = \"Hoja1\"\n",
    "cell_range = \"A1:C16\"\n",
    "\n",
    "clientes = sci.load_xl(filename, sheet_name, cell_range)\n",
    "\n",
    "print clientes"
   ]
  },
  {
   "cell_type": "code",
   "execution_count": 27,
   "metadata": {
    "collapsed": false
   },
   "outputs": [
    {
     "name": "stdout",
     "output_type": "stream",
     "text": [
      "[{'Edad': 23.0, 'Nombre': 'Alberto', 'Peso': 123.0, 'Sexo': 'Hombre'}, {'Edad': 23.0, 'Nombre': 'Alberto', 'Peso': 123.0, 'Sexo': 'Hombre'}, {'Edad': 23.0, 'Nombre': 'Alberto', 'Peso': 123.0, 'Sexo': 'Hombre'}, {'Edad': 23.0, 'Nombre': 'Alberto', 'Peso': 123.0, 'Sexo': 'Hombre'}, {'Edad': 23.0, 'Nombre': 'Alberto', 'Peso': 123.0, 'Sexo': 'Hombre'}, {'Edad': 23.0, 'Nombre': 'Alberto', 'Peso': 123.0, 'Sexo': 'Hombre'}, {'Edad': 23.0, 'Nombre': 'Alberto', 'Peso': 123.0, 'Sexo': 'Hombre'}, {'Edad': 23.0, 'Nombre': 'Alberto', 'Peso': 123.0, 'Sexo': 'Hombre'}]\n"
     ]
    }
   ],
   "source": [
    "# load_csv(filename)\n",
    "\n",
    "filename = \"../datos.csv\"\n",
    "\n",
    "personas = sci.load_csv(filename)\n",
    "\n",
    "print personas"
   ]
  },
  {
   "cell_type": "code",
   "execution_count": 32,
   "metadata": {
    "collapsed": false
   },
   "outputs": [
    {
     "name": "stdout",
     "output_type": "stream",
     "text": [
      "[549L, 905L, 908L, 632L, 965L, 942L, 114L, 99L, 757L, 298L, 13L, 755L, 883L, 996L, 282L]\n"
     ]
    }
   ],
   "source": [
    "# data_extract(data, key)\n",
    "\n",
    "consumos = sci.data_extract(clientes, \"Consumo\")\n",
    "\n",
    "print consumos"
   ]
  },
  {
   "cell_type": "code",
   "execution_count": 35,
   "metadata": {
    "collapsed": false
   },
   "outputs": [
    {
     "name": "stdout",
     "output_type": "stream",
     "text": [
      "[905L, 908L, 965L, 942L, 883L, 996L]\n"
     ]
    }
   ],
   "source": [
    "# data_filter(data, fn_filter)\n",
    "\n",
    "consumos_altos = sci.data_filter(consumos, lambda c: c > 800)\n",
    "\n",
    "print consumos_altos"
   ]
  },
  {
   "cell_type": "code",
   "execution_count": 37,
   "metadata": {
    "collapsed": false
   },
   "outputs": [
    {
     "name": "stdout",
     "output_type": "stream",
     "text": [
      "[False, True, True, False, True, True, False, False, False, False, False, False, True, True, False]\n"
     ]
    }
   ],
   "source": [
    "# data_checker(data, fn_checker)\n",
    "\n",
    "consumos_altos = sci.data_checker(consumos, lambda c: c > 800)\n",
    "\n",
    "print consumos_altos"
   ]
  },
  {
   "cell_type": "code",
   "execution_count": 46,
   "metadata": {
    "collapsed": false
   },
   "outputs": [
    {
     "name": "stdout",
     "output_type": "stream",
     "text": [
      "[1, 2, 3, 4, 2]\n",
      "[False, True, False, True, True]\n",
      "['Rojo', 'Azul', 'Verde', 'Amarillo', 'Rosa']\n",
      "[2, 4, 2]\n",
      "['Azul', 'Amarillo', 'Rosa']\n",
      "[(2, 'Azul'), (4, 'Amarillo'), (2, 'Rosa')]\n"
     ]
    }
   ],
   "source": [
    "# data_reduce(data, reduce)\n",
    "\n",
    "datos = [\n",
    "    { \"A\": 1, \"B\": \"Rojo\" },\n",
    "    { \"A\": 2, \"B\": \"Azul\" },\n",
    "    { \"A\": 3, \"B\": \"Verde\" },\n",
    "    { \"A\": 4, \"B\": \"Amarillo\" },\n",
    "    { \"A\": 2, \"B\": \"Rosa\" }\n",
    "]\n",
    "\n",
    "A = sci.data_extract(datos, \"A\")\n",
    "B = sci.data_extract(datos, \"B\")\n",
    "\n",
    "Ac = sci.data_checker(A, lambda n: n % 2 == 0)\n",
    "\n",
    "Ap = sci.data_reduce(A, Ac)\n",
    "Bp = sci.data_reduce(B, Ac)\n",
    "\n",
    "print A\n",
    "print Ac\n",
    "print B\n",
    "print Ap\n",
    "print Bp\n",
    "print zip(Ap, Bp)"
   ]
  },
  {
   "cell_type": "code",
   "execution_count": 47,
   "metadata": {
    "collapsed": false
   },
   "outputs": [
    {
     "name": "stdout",
     "output_type": "stream",
     "text": [
      "[(2, 'Azul'), (4, 'Amarillo'), (2, 'Rosa')]\n"
     ]
    }
   ],
   "source": [
    "# data_map(data, fn_map)\n",
    "\n",
    "def filtro(dic):\n",
    "    if dic[\"A\"] % 2 == 0:\n",
    "        return (dic[\"A\"], dic[\"B\"])\n",
    "    \n",
    "print sci.data_map(datos, filtro)"
   ]
  },
  {
   "cell_type": "code",
   "execution_count": 48,
   "metadata": {
    "collapsed": true
   },
   "outputs": [],
   "source": [
    "# write_xl(filename, sheet_name, ini_cell, data, labels)\n",
    "\n",
    "filename = \"nuevo.xlsx\"\n",
    "sheet_name = \"Hoja1\"\n",
    "ini_cell = \"D8\"\n",
    "data = datos\n",
    "labels = [\"B\", \"A\"]\n",
    "\n",
    "sci.write_xl(filename, sheet_name, ini_cell, data, labels)"
   ]
  },
  {
   "cell_type": "code",
   "execution_count": 56,
   "metadata": {
    "collapsed": false
   },
   "outputs": [
    {
     "name": "stdout",
     "output_type": "stream",
     "text": [
      "[{u'Nombre': u'Ana', u'Fecha': u'9-2-2016', 'IVA': 1636.84, u'Consumo': 549L}, {u'Nombre': u'Ana', u'Fecha': u'27-1-2015', 'IVA': 2049.8, u'Consumo': 905L}, {u'Nombre': u'Carla', u'Fecha': u'1-2-2015', 'IVA': 2053.2799999999997, u'Consumo': 908L}, {u'Nombre': u'Beto', u'Fecha': u'11-1-2014', 'IVA': 1733.12, u'Consumo': 632L}, {u'Nombre': u'Carla', u'Fecha': u'7-1-2015', 'IVA': 2119.3999999999996, u'Consumo': 965L}, {u'Nombre': u'Ana', u'Fecha': u'16-2-2014', 'IVA': 2092.7200000000003, u'Consumo': 942L}, {u'Nombre': u'Carla', u'Fecha': u'12-2-2016', 'IVA': 1132.24, u'Consumo': 114L}, {u'Nombre': u'Carla', u'Fecha': u'2-2-2015', 'IVA': 1114.84, u'Consumo': 99L}, {u'Nombre': u'Beto', u'Fecha': u'5-3-2016', 'IVA': 1878.12, u'Consumo': 757L}, {u'Nombre': u'Daniel', u'Fecha': u'23-3-2016', 'IVA': 1345.6799999999998, u'Consumo': 298L}, {u'Nombre': u'Beto', u'Fecha': u'12-1-2014', 'IVA': 1015.08, u'Consumo': 13L}, {u'Nombre': u'Ana', u'Fecha': u'1-1-2016', 'IVA': 1875.8, u'Consumo': 755L}, {u'Nombre': u'Ana', u'Fecha': u'9-2-2016', 'IVA': 2024.28, u'Consumo': 883L}, {u'Nombre': u'Carla', u'Fecha': u'17-2-2015', 'IVA': 2155.3599999999997, u'Consumo': 996L}, {u'Nombre': u'Carla', u'Fecha': u'3-3-2015', 'IVA': 1327.12, u'Consumo': 282L}]\n"
     ]
    }
   ],
   "source": [
    "# write_xl(filename, sheet_name, ini_cell, data, labels)\n",
    "\n",
    "def fn(cliente):\n",
    "    # Nombre, Fecha, Consumo\n",
    "    cliente[\"IVA\"] = cliente[\"Consumo\"] * 1.16 + 1000\n",
    "    return cliente\n",
    "\n",
    "datos = sci.data_map(clientes, fn)\n",
    "\n",
    "print datos\n",
    "\n",
    "filename = \"nuevo.xlsx\"\n",
    "sheet_name = \"Hoja1\"\n",
    "ini_cell = \"G1\"\n",
    "data = datos\n",
    "labels = [\"Nombre\", \"Fecha\", \"Consumo\", \"IVA\"]\n",
    "\n",
    "sci.write_xl(filename, sheet_name, ini_cell, data, labels)"
   ]
  },
  {
   "cell_type": "code",
   "execution_count": 60,
   "metadata": {
    "collapsed": false
   },
   "outputs": [
    {
     "name": "stdout",
     "output_type": "stream",
     "text": [
      "[[u'Ana', u'Ana', u'Carla', u'Beto', u'Carla', u'Ana', u'Carla', u'Carla', u'Beto', u'Daniel', u'Beto', u'Ana', u'Ana', u'Carla', u'Carla'], [549L, 905L, 908L, 632L, 965L, 942L, 114L, 99L, 757L, 298L, 13L, 755L, 883L, 996L, 282L]]\n"
     ]
    }
   ],
   "source": [
    "# cat_build(data, labels)\n",
    "\n",
    "data = datos\n",
    "\n",
    "labels = [\"Nombre\", \"Consumo\"]\n",
    "\n",
    "categorias = sci.cat_build(data, labels)\n",
    "\n",
    "print categorias"
   ]
  },
  {
   "cell_type": "code",
   "execution_count": 59,
   "metadata": {
    "collapsed": false
   },
   "outputs": [
    {
     "name": "stdout",
     "output_type": "stream",
     "text": [
      "[[u'Carla', u'Daniel', u'Beto', u'Ana'], [99L, 996L, 549L, 905L, 298L, 908L, 13L, 942L, 114L, 755L, 757L, 632L, 282L, 883L, 965L]]\n"
     ]
    }
   ],
   "source": [
    "# cat_set_build(data, labels)\n",
    "\n",
    "data = datos\n",
    "\n",
    "labels = [\"Nombre\", \"Consumo\"]\n",
    "\n",
    "categorias = sci.cat_set_build(data, labels)\n",
    "\n",
    "print categorias"
   ]
  },
  {
   "cell_type": "code",
   "execution_count": 61,
   "metadata": {
    "collapsed": false
   },
   "outputs": [
    {
     "name": "stdout",
     "output_type": "stream",
     "text": [
      "[u'Ana', 549L]\n"
     ]
    }
   ],
   "source": [
    "# cat_row_build(cats, row)\n",
    "\n",
    "row = 0\n",
    "\n",
    "print sci.cat_row_build(categorias, row)"
   ]
  },
  {
   "cell_type": "code",
   "execution_count": 64,
   "metadata": {
    "collapsed": false
   },
   "outputs": [
    {
     "name": "stdout",
     "output_type": "stream",
     "text": [
      "[1, 'Rojo', 99]\n",
      "[2, 'Verde', 100]\n",
      "[3, 'Azul', 101]\n"
     ]
    }
   ],
   "source": [
    "# cat_row_build(cats, row)\n",
    "\n",
    "categorias = [\n",
    "    [1, 2, 3],\n",
    "    [\"Rojo\", \"Verde\", \"Azul\"],\n",
    "    [99, 100, 101]\n",
    "]\n",
    "\n",
    "print sci.cat_row_build(categorias, 0)\n",
    "print sci.cat_row_build(categorias, 1)\n",
    "print sci.cat_row_build(categorias, 2)"
   ]
  },
  {
   "cell_type": "code",
   "execution_count": 67,
   "metadata": {
    "collapsed": false,
    "scrolled": true
   },
   "outputs": [
    {
     "name": "stdout",
     "output_type": "stream",
     "text": [
      "[[u'Ana', 549L, 1636.84], [u'Ana', 905L, 2049.8], [u'Carla', 908L, 2053.2799999999997], [u'Beto', 632L, 1733.12], [u'Carla', 965L, 2119.3999999999996], [u'Ana', 942L, 2092.7200000000003], [u'Carla', 114L, 1132.24], [u'Carla', 99L, 1114.84], [u'Beto', 757L, 1878.12], [u'Daniel', 298L, 1345.6799999999998], [u'Beto', 13L, 1015.08], [u'Ana', 755L, 1875.8], [u'Ana', 883L, 2024.28], [u'Carla', 996L, 2155.3599999999997], [u'Carla', 282L, 1327.12]]\n"
     ]
    }
   ],
   "source": [
    "# cat_join(data, labels)\n",
    "\n",
    "data = datos\n",
    "\n",
    "labels = [\"Nombre\", \"Consumo\", \"IVA\"]\n",
    "\n",
    "print sci.cat_join(data, labels)"
   ]
  },
  {
   "cell_type": "code",
   "execution_count": 72,
   "metadata": {
    "collapsed": false
   },
   "outputs": [
    {
     "name": "stdout",
     "output_type": "stream",
     "text": [
      "[[549L], [905L], [908L], [632L], [965L], [942L], [114L], [99L], [757L], [298L], [13L], [755L], [883L], [996L], [282L]]\n",
      "[[1636.84], [2049.8], [2053.2799999999997], [1733.12], [2119.3999999999996], [2092.7200000000003], [1132.24], [1114.84], [1878.12], [1345.6799999999998], [1015.08], [1875.8], [2024.28], [2155.3599999999997], [1327.12]]\n"
     ]
    }
   ],
   "source": [
    "# data_analize(data, xlabels, ylabels):\n",
    "\n",
    "data = datos\n",
    "xlabels = [\"Consumo\"]\n",
    "ylabels = [\"IVA\"]\n",
    "\n",
    "X, Y = sci.data_analize(data, xlabels, ylabels)\n",
    "    \n",
    "print X\n",
    "print Y"
   ]
  },
  {
   "cell_type": "code",
   "execution_count": 73,
   "metadata": {
    "collapsed": false
   },
   "outputs": [
    {
     "ename": "ImportError",
     "evalue": "No module named sklearn.neuralnetwork",
     "output_type": "error",
     "traceback": [
      "\u001b[0;31m-------------------------------------------------------------\u001b[0m",
      "\u001b[0;31mImportError\u001b[0m                 Traceback (most recent call last)",
      "\u001b[0;32m<ipython-input-73-5c203df317e7>\u001b[0m in \u001b[0;36m<module>\u001b[0;34m()\u001b[0m\n\u001b[0;32m----> 1\u001b[0;31m \u001b[1;32mfrom\u001b[0m \u001b[0msklearn\u001b[0m\u001b[1;33m.\u001b[0m\u001b[0mneuralnetwork\u001b[0m \u001b[1;32mimport\u001b[0m \u001b[0mMLClassifier\u001b[0m\u001b[1;33m\u001b[0m\u001b[0m\n\u001b[0m\u001b[1;32m      2\u001b[0m \u001b[1;33m\u001b[0m\u001b[0m\n\u001b[1;32m      3\u001b[0m \u001b[0mclf\u001b[0m \u001b[1;33m=\u001b[0m \u001b[0mMLClassifier\u001b[0m\u001b[1;33m(\u001b[0m\u001b[1;33m)\u001b[0m\u001b[1;33m\u001b[0m\u001b[0m\n\u001b[1;32m      4\u001b[0m \u001b[1;33m\u001b[0m\u001b[0m\n\u001b[1;32m      5\u001b[0m \u001b[0mclf\u001b[0m\u001b[1;33m.\u001b[0m\u001b[0mfit\u001b[0m\u001b[1;33m(\u001b[0m\u001b[0mX\u001b[0m\u001b[1;33m,\u001b[0m \u001b[0mY\u001b[0m\u001b[1;33m)\u001b[0m\u001b[1;33m\u001b[0m\u001b[0m\n",
      "\u001b[0;31mImportError\u001b[0m: No module named sklearn.neuralnetwork"
     ]
    }
   ],
   "source": [
    "from sklearn.neuralnetwork import MLClassifier\n",
    "\n",
    "clf = MLClassifier()\n",
    "\n",
    "clf.fit(X, Y)\n",
    "\n",
    "print clf.predict([\n",
    "    [600],\n",
    "    [500],\n",
    "    [589]\n",
    "])"
   ]
  }
 ],
 "metadata": {
  "kernelspec": {
   "display_name": "Python 2",
   "language": "python",
   "name": "python2"
  },
  "language_info": {
   "codemirror_mode": {
    "name": "ipython",
    "version": 2
   },
   "file_extension": ".py",
   "mimetype": "text/x-python",
   "name": "python",
   "nbconvert_exporter": "python",
   "pygments_lexer": "ipython2",
   "version": "2.7.12"
  }
 },
 "nbformat": 4,
 "nbformat_minor": 2
}
